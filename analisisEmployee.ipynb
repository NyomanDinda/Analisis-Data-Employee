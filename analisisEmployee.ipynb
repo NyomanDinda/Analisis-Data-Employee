{
  "cells": [
    {
      "cell_type": "code",
      "execution_count": 1,
      "metadata": {
        "id": "FPda5by89Q_y",
        "colab": {
          "base_uri": "https://localhost:8080/"
        },
        "outputId": "d89929f2-e525-4ed4-eeeb-dec0f9f2a4c4"
      },
      "outputs": [
        {
          "output_type": "stream",
          "name": "stdout",
          "text": [
            "Mounted at /content/drive\n"
          ]
        }
      ],
      "source": [
        "from google.colab import drive\n",
        "drive.mount('/content/drive')"
      ]
    },
    {
      "cell_type": "markdown",
      "metadata": {
        "id": "9X-pIosZ6WQR"
      },
      "source": [
        "import"
      ]
    },
    {
      "cell_type": "code",
      "execution_count": 2,
      "metadata": {
        "id": "IWmE5wej6WQS"
      },
      "outputs": [],
      "source": [
        "import pandas as pd\n",
        "from sklearn.preprocessing import OneHotEncoder\n",
        "from sklearn.model_selection import train_test_split\n",
        "from sklearn.naive_bayes import GaussianNB\n",
        "from sklearn.metrics import accuracy_score, precision_score, recall_score, f1_score\n",
        "import matplotlib.pyplot as plt\n",
        "import seaborn as sns\n",
        "from sklearn.metrics import confusion_matrix\n"
      ]
    },
    {
      "cell_type": "markdown",
      "metadata": {
        "id": "kIgm6tpr6WQT"
      },
      "source": [
        "Membaca data"
      ]
    },
    {
      "cell_type": "code",
      "execution_count": 3,
      "metadata": {
        "colab": {
          "base_uri": "https://localhost:8080/"
        },
        "id": "YRjFWouS6WQT",
        "outputId": "4030fabf-8791-4852-ae03-81aefc4623f5"
      },
      "outputs": [
        {
          "output_type": "stream",
          "name": "stdout",
          "text": [
            "      Education  JoiningYear       City  PaymentTier  Age  Gender EverBenched  \\\n",
            "0     Bachelors         2017  Bangalore            3   34    Male          No   \n",
            "1     Bachelors         2013       Pune            1   28  Female          No   \n",
            "2     Bachelors         2014  New Delhi            3   38  Female          No   \n",
            "3       Masters         2016  Bangalore            3   27    Male          No   \n",
            "4       Masters         2017       Pune            3   24    Male         Yes   \n",
            "...         ...          ...        ...          ...  ...     ...         ...   \n",
            "4648  Bachelors         2013  Bangalore            3   26  Female          No   \n",
            "4649    Masters         2013       Pune            2   37    Male          No   \n",
            "4650    Masters         2018  New Delhi            3   27    Male          No   \n",
            "4651  Bachelors         2012  Bangalore            3   30    Male         Yes   \n",
            "4652  Bachelors         2015  Bangalore            3   33    Male         Yes   \n",
            "\n",
            "      ExperienceInCurrentDomain  LeaveOrNot  \n",
            "0                             0           0  \n",
            "1                             3           1  \n",
            "2                             2           0  \n",
            "3                             5           1  \n",
            "4                             2           1  \n",
            "...                         ...         ...  \n",
            "4648                          4           0  \n",
            "4649                          2           1  \n",
            "4650                          5           1  \n",
            "4651                          2           0  \n",
            "4652                          4           0  \n",
            "\n",
            "[4653 rows x 9 columns]\n"
          ]
        }
      ],
      "source": [
        "data = pd.read_csv('/content/drive/MyDrive/PSD/Employee.csv')\n",
        "df = pd.DataFrame(data)\n",
        "print(df)\n",
        "\n"
      ]
    },
    {
      "cell_type": "markdown",
      "source": [
        "Menampilkan data yang tidak lengkap\n"
      ],
      "metadata": {
        "id": "CLF8SEJ7fyT_"
      }
    },
    {
      "cell_type": "code",
      "source": [
        "print('Data yang kosong')\n",
        "print(df.isnull().sum())\n",
        "print(df[df.isnull().any(axis=1)])"
      ],
      "metadata": {
        "colab": {
          "base_uri": "https://localhost:8080/"
        },
        "id": "9qxI7qK5f4dl",
        "outputId": "852db9bc-7bfa-4fa5-f193-e44976e460de"
      },
      "execution_count": 4,
      "outputs": [
        {
          "output_type": "stream",
          "name": "stdout",
          "text": [
            "Data yang kosong\n",
            "Education                    0\n",
            "JoiningYear                  0\n",
            "City                         0\n",
            "PaymentTier                  0\n",
            "Age                          0\n",
            "Gender                       0\n",
            "EverBenched                  5\n",
            "ExperienceInCurrentDomain    0\n",
            "LeaveOrNot                   0\n",
            "dtype: int64\n",
            "     Education  JoiningYear       City  PaymentTier  Age  Gender EverBenched  \\\n",
            "16   Bachelors         2014  Bangalore            3   34  Female         NaN   \n",
            "65   Bachelors         2018  Bangalore            3   40    Male         NaN   \n",
            "127  Bachelors         2015       Pune            3   27    Male         NaN   \n",
            "435  Bachelors         2015       Pune            3   26  Female         NaN   \n",
            "512  Bachelors         2015  Bangalore            3   28  Female         NaN   \n",
            "\n",
            "     ExperienceInCurrentDomain  LeaveOrNot  \n",
            "16                           2           0  \n",
            "65                           1           1  \n",
            "127                          5           0  \n",
            "435                          4           1  \n",
            "512                          1           0  \n"
          ]
        }
      ]
    },
    {
      "cell_type": "markdown",
      "metadata": {
        "id": "Ju2GdEVW6WQT"
      },
      "source": [
        "Menghapus data yang tidak lengkap\n"
      ]
    },
    {
      "cell_type": "code",
      "execution_count": 5,
      "metadata": {
        "id": "jRov_pL76WQT"
      },
      "outputs": [],
      "source": [
        "df.dropna(inplace=True)"
      ]
    },
    {
      "cell_type": "markdown",
      "metadata": {
        "id": "c7X-_8Cl6WQT"
      },
      "source": [
        "Memilih fitur untuk variabel X dan Y\n"
      ]
    },
    {
      "cell_type": "code",
      "execution_count": 6,
      "metadata": {
        "id": "F1qOOQNq6WQT"
      },
      "outputs": [],
      "source": [
        "X = data[['Education', 'JoiningYear', 'City', 'PaymentTier', 'Age', 'Gender', 'EverBenched', 'ExperienceInCurrentDomain']]\n",
        "Y = data['LeaveOrNot']"
      ]
    },
    {
      "cell_type": "markdown",
      "metadata": {
        "id": "8MNCEhkF6WQU"
      },
      "source": [
        "One-hot encoding untuk fitur kategorikal\n"
      ]
    },
    {
      "cell_type": "code",
      "execution_count": 7,
      "metadata": {
        "id": "UAS6ISSG6WQU",
        "colab": {
          "base_uri": "https://localhost:8080/"
        },
        "outputId": "583fbb82-7bbc-4309-d4e7-8fe9c937b16c"
      },
      "outputs": [
        {
          "output_type": "stream",
          "name": "stdout",
          "text": [
            "      JoiningYear  PaymentTier  Age  ExperienceInCurrentDomain  \\\n",
            "0            2017            3   34                          0   \n",
            "1            2013            1   28                          3   \n",
            "2            2014            3   38                          2   \n",
            "3            2016            3   27                          5   \n",
            "4            2017            3   24                          2   \n",
            "...           ...          ...  ...                        ...   \n",
            "4648         2013            3   26                          4   \n",
            "4649         2013            2   37                          2   \n",
            "4650         2018            3   27                          5   \n",
            "4651         2012            3   30                          2   \n",
            "4652         2015            3   33                          4   \n",
            "\n",
            "      Education_Masters  Education_PHD  City_New Delhi  City_Pune  \\\n",
            "0                 False          False           False      False   \n",
            "1                 False          False           False       True   \n",
            "2                 False          False            True      False   \n",
            "3                  True          False           False      False   \n",
            "4                  True          False           False       True   \n",
            "...                 ...            ...             ...        ...   \n",
            "4648              False          False           False      False   \n",
            "4649               True          False           False       True   \n",
            "4650               True          False            True      False   \n",
            "4651              False          False           False      False   \n",
            "4652              False          False           False      False   \n",
            "\n",
            "      Gender_Male  EverBenched_Yes  \n",
            "0            True            False  \n",
            "1           False            False  \n",
            "2           False            False  \n",
            "3            True            False  \n",
            "4            True             True  \n",
            "...           ...              ...  \n",
            "4648        False            False  \n",
            "4649         True            False  \n",
            "4650         True            False  \n",
            "4651         True             True  \n",
            "4652         True             True  \n",
            "\n",
            "[4653 rows x 10 columns]\n"
          ]
        }
      ],
      "source": [
        "categorical_features = ['Education', 'City', 'Gender', 'EverBenched']\n",
        "X_encoded = pd.get_dummies(X, columns=categorical_features, drop_first=True)\n",
        "print(X_encoded)\n"
      ]
    },
    {
      "cell_type": "markdown",
      "metadata": {
        "id": "YZSfhAdf6WQU"
      },
      "source": [
        "Pembagian dataset menjadi train dan test\n"
      ]
    },
    {
      "cell_type": "code",
      "execution_count": 8,
      "metadata": {
        "id": "_XXqsqht6WQU"
      },
      "outputs": [],
      "source": [
        "X_train, X_test, y_train, y_test = train_test_split(X_encoded, Y, test_size=0.3, random_state=42)\n",
        "\n"
      ]
    },
    {
      "cell_type": "markdown",
      "metadata": {
        "id": "AM1Fzsgz6WQU"
      },
      "source": [
        "Membuat model Naive Bayes\n"
      ]
    },
    {
      "cell_type": "code",
      "execution_count": 9,
      "metadata": {
        "id": "3MURdXbn6WQU",
        "colab": {
          "base_uri": "https://localhost:8080/"
        },
        "outputId": "f9a83985-d2b9-4b32-ab1f-756322cb8ed4"
      },
      "outputs": [
        {
          "output_type": "stream",
          "name": "stdout",
          "text": [
            "Algoritma Naive Bayes\n",
            "GaussianNB()\n"
          ]
        }
      ],
      "source": [
        "nb = GaussianNB()\n",
        "nb.fit(X_train, y_train)\n",
        "print('Algoritma Naive Bayes')\n",
        "print(nb)\n"
      ]
    },
    {
      "cell_type": "markdown",
      "metadata": {
        "id": "F6wPNDcC6WQU"
      },
      "source": [
        "Memprediksi nilai target pada data test\n"
      ]
    },
    {
      "cell_type": "code",
      "execution_count": 10,
      "metadata": {
        "id": "NQy1XkoI6WQU"
      },
      "outputs": [],
      "source": [
        "y_pred = nb.predict(X_test)\n"
      ]
    },
    {
      "cell_type": "markdown",
      "metadata": {
        "id": "D4VLxzRO6WQU"
      },
      "source": [
        ":Evaluasi model klasifikasi menggunakan metrik yang diminta\n"
      ]
    },
    {
      "cell_type": "code",
      "execution_count": 11,
      "metadata": {
        "id": "G--iJWc76WQU",
        "colab": {
          "base_uri": "https://localhost:8080/"
        },
        "outputId": "9aae3ac8-1167-4400-be4c-7f6dc36ec0a9"
      },
      "outputs": [
        {
          "output_type": "stream",
          "name": "stdout",
          "text": [
            "Accuracy naive bayes: 0.7106017191977078\n",
            "Precision: 0.5740740740740741\n",
            "Recall: 0.5861344537815126\n",
            "F1 Score: 0.58004158004158\n"
          ]
        }
      ],
      "source": [
        "print(\"Accuracy naive bayes:\", accuracy_score(y_test, y_pred))\n",
        "print(\"Precision:\", precision_score(y_test, y_pred))\n",
        "print(\"Recall:\", recall_score(y_test, y_pred))\n",
        "print(\"F1 Score:\", f1_score(y_test, y_pred))\n"
      ]
    },
    {
      "cell_type": "markdown",
      "metadata": {
        "id": "G6VfTBr36WQU"
      },
      "source": [
        "Mendapatkan confusion matrix\n"
      ]
    },
    {
      "cell_type": "code",
      "execution_count": 12,
      "metadata": {
        "id": "cKlcb3yX6WQU"
      },
      "outputs": [],
      "source": [
        "conf_matrix = confusion_matrix(y_test, y_pred)"
      ]
    },
    {
      "cell_type": "markdown",
      "metadata": {
        "id": "pJZXr6pi6WQU"
      },
      "source": [
        "Plot confusion matrix menggunakan heatmap\n"
      ]
    },
    {
      "cell_type": "code",
      "execution_count": 13,
      "metadata": {
        "id": "D3tjU18r6WQV",
        "colab": {
          "base_uri": "https://localhost:8080/",
          "height": 564
        },
        "outputId": "eb322e07-703a-4c4e-fd6c-5723ebfec1d1"
      },
      "outputs": [
        {
          "output_type": "display_data",
          "data": {
            "text/plain": [
              "<Figure size 800x600 with 2 Axes>"
            ],
            "image/png": "[encoded data removed]"
          },
          "metadata": {}
        }
      ],
      "source": [
        "plt.figure(figsize=(8, 6))\n",
        "sns.heatmap(conf_matrix, annot=True, cmap='Blues', fmt='d',\n",
        "            xticklabels=['Not leave', 'Leave'], yticklabels=['Not leave', 'Leave'])\n",
        "plt.title('Confusion Matrix Naive Bayes')\n",
        "plt.xlabel('Predicted')\n",
        "plt.ylabel('Actual')\n",
        "plt.show()"
      ]
    }
  ],
  "metadata": {
    "colab": {
      "provenance": [],
      "toc_visible": true
    },
    "kernelspec": {
      "display_name": "Python 3",
      "name": "python3"
    },
    "language_info": {
      "name": "python"
    }
  },
  "nbformat": 4,
  "nbformat_minor": 0
}